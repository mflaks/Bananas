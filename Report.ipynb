{
 "cells": [
  {
   "cell_type": "markdown",
   "metadata": {},
   "source": [
    "# SUMTREE"
   ]
  },
  {
   "cell_type": "raw",
   "metadata": {},
   "source": [
    "Used to store and retrieve the experiences. This Class of Object is faster and more eficient than a list or dictinary\n",
    "\n",
    "SumTree is Binary Tree where each parent node is the sum of its child  (left, Right).\n",
    "We will use the SumTree to store from each experience the data = [S, A, R, Next S, done] and its priority value \"p\"\n",
    "\n",
    "Example:\n",
    "\n",
    "Capacity = 2**3 = 8  (number of experiences we can store -- always power of 2)\n",
    "\n",
    "priority values = [8.  3.  7.  4. 11.  1.  5.  9.]  -- added to the leaf nodes\n",
    "\n",
    "after we add all value above, we will have the SumTree below\n",
    "\n",
    "tree\n",
    "[48]                       -  calculated (Ex: 48 = 22 + 26)\n",
    "[22, 26]                   -  calculated (Ex: 26 = 12 + 14)\n",
    "[11, 11, 12, 14.]          -  calculated (Ex: 11 = 8 + 3)\n",
    "[8, 3, 7, 4, 11, 1, 5, 9]  -  added\n",
    "\n",
    "tree index  -- it has 15 positions from 0 to 14\n",
    "[0]\n",
    "[1, 2]\n",
    "[3, 4, 5, 6]\n",
    "[7, 8, 9, 10, 11, 12, 13, 14]\n",
    "\n",
    "tree = np.array\n",
    "[48. 22. 26. 11. 11. 12. 14.  8.  3.  7.  4. 11.  1.  5.  9.]"
   ]
  },
  {
   "cell_type": "markdown",
   "metadata": {},
   "source": [
    "# PRIORITIZE EXPERIENCE REPLAY (PER) "
   ]
  },
  {
   "cell_type": "raw",
   "metadata": {},
   "source": [
    "When we random choose some actions and save the experiences, we can see that there are much more experiences that has reward equal to zero, it means that the agent didn't collect any banana.\n",
    "\n",
    "The goal is to select the best episodes on the memory to train the DQN.\n",
    "\n",
    "Episodes with higher Error,  are more important, they can make the DQN agent learn much more. But maybe they not happen as frequent as other episodes. Said that we can’t just random sample the episodes in a uniform way.\n",
    "\n",
    "We will create an Algorithm to choose these episodes more often. But we don’t want to discard the others, because in earlier stages even if we have episodes with zero error, it doesn’t mean that this error is correct. The model just started to learn.\n",
    "\n",
    "If we don't have enough experiences with rewards 1 (agente collects yellow bananas) or -1 (agent collects blue bananas), it will be very difficult for the DQN to learn.\n",
    "\n",
    "Using PER, we will be able to select much more often expperiences that has a highier error, and in the beggining of the training all experience with rewards -1 or 1, will have the highier error than experiences with zero reward.\n",
    "\n",
    "Error = abs(Expected Q Value- Target Q value)"
   ]
  },
  {
   "cell_type": "markdown",
   "metadata": {},
   "source": [
    "# DUELING DQN"
   ]
  },
  {
   "cell_type": "raw",
   "metadata": {},
   "source": [
    "The goal is to let the DQN learn the V(s) (Value of a State) and the A(s, a) Value of Take an Action separately. \n",
    "\n",
    "Each State has a intrinsic value, independently of the action the agent will take. \n",
    "\n",
    "For example, if it is a State that any action will take to a terminal state, the A(s, a) won’t mater, the Q(s, a) will be the same for all actions\n",
    "\n",
    "DDQN can learn which states are (or are not) valuable without having to learn the effect of each action at each state (since it’s also calculating V(s)).\n",
    "\n",
    "Q = V + A - Average_A"
   ]
  },
  {
   "cell_type": "markdown",
   "metadata": {},
   "source": [
    "# DOUBLE DQN"
   ]
  },
  {
   "cell_type": "raw",
   "metadata": {},
   "source": [
    "FIXED TARGET\n",
    "\n",
    "We will create 2 DQN.\n",
    "\n",
    "State_DQN        -- Used to calculate the Q (state). Expected Q value for each action. This NN will be trained\n",
    "Target_DQN       -- Used to calculate the Q(Next State). This value will be used to train de DQN\n",
    "\n",
    "Belmon Equation:  Q(state) = reward + gamma * Q(Next_State)\n",
    "\n",
    "The goal is to use the State_DQN to forecast the best action of the Next State and use Target_DQN to calculate the Q value of the Next State using the best action selected on the State_DQN. \n",
    "\n",
    "It will help the algorithm not to overestimate the Max Q value of the Next State. In the beginning, all Q values are not accrue. Having 2 DQN, both should be correct in order to get the max Q value, otherwise the State DQN can choose one action, but this action has not the highest value on the Target DQN.  It will create a good balance.\n",
    "\n",
    "For example\n",
    "\n",
    "Experience 1:\n",
    "State_DQN ==>  highest value is action = 1\n",
    "Target_ DQN ==> Highest Q value is related to action = 1.\n",
    "In this case both NN agree.\n",
    "\n",
    "Experience 2:\n",
    "State DQN (Next State) ==> highest value is action = 0\n",
    "Target_DQN (Next State) ==> Highest Q value is related to action = 3.\n",
    "In this case the NN disagree. So instead of choose the Q value associated to action 3, we will use the Q value on the Target_DQN associated to action 0. It doesn't need to be the highest\n",
    "\n",
    "This balance will help the agent to choose the most accure Q(next State).We need to relie in both NN and not in only one."
   ]
  },
  {
   "cell_type": "markdown",
   "metadata": {},
   "source": [
    "# HYPERPARAMETERS:"
   ]
  },
  {
   "cell_type": "raw",
   "metadata": {},
   "source": [
    "Hyperparameters are extreamly important. \n",
    "You can have a perfect Model, but if you don't tune them well your the DQN won't learn.\n",
    "\n",
    "# Environment\n",
    "env = env                                    # instance of an environment \n",
    "state_size = 37                              # state size -- input of the DQN (number of features)\n",
    "action_size = 4                              # number of action -- output DQN\n",
    "\n",
    "# Exploration Rate\n",
    "epsilon = 1                                  # exploration rate\n",
    "epsilon_decay = 0.9985                       # factor to decrease the exploration rate at each episode\n",
    "epsilon_min = 0.01                           # min exploration rate\n",
    "\n",
    "# Train DQN\n",
    "gamma = 0.97                                 # discount rate of the future rewards\n",
    "tau = 0.01                                   # learning rate to update the parameters of the DQN_Target\n",
    "batch_size = 64                              # number of examples the DQN will train at the same time\n",
    "update_every = 4                             # number of time steps we need to take, before update DQN and DQN_Target\n",
    "learning_rate = 0.01                         # learning rate to train the DQN\n",
    "counter = 0                                  # count number of steps in order to update the DQN and DQN_Target\n",
    "terminal_state = None                        # Q Value of the Terminal State\n",
    "\n",
    "# Prioritize Experience Replay - PER\n",
    "capacity = 2**14                             # maximum number of experiences (leaf nodes)\n",
    "epsilon_per = 0.0001                         # add to the priority, avoid priority equal zero\n",
    "a_per = 1                                    # [0,1]  0 uniform distribution\n",
    "b_per = 0.5                                  # [0,1]  calculate Importance Sampling Weights  IS_Weights\n",
    "increment_b = 0.0000025                      # how fast move b_per to 1.\n",
    "absolute_error = 1                           # maximum Priority value\n",
    "\n",
    "# Dueling DQN\n",
    "3 hidden layers of 64 neurons\n"
   ]
  },
  {
   "cell_type": "markdown",
   "metadata": {},
   "source": [
    "# Future Steps to Improve the Model"
   ]
  },
  {
   "attachments": {},
   "cell_type": "markdown",
   "metadata": {},
   "source": [
    "We can apply the Rainbow and include more 3 algorithm to our code\n",
    "\n",
    "Combination of all algorithm below:\n",
    "- Double DQN (done)\n",
    "- Prioritize Experience Replay (done)\n",
    "- Dueling DQN (done)\n",
    "\n",
    "\n",
    "- AC3\n",
    "- Distributional DQN\n",
    "- Noise DQN"
   ]
  },
  {
   "cell_type": "markdown",
   "metadata": {},
   "source": [
    "# Average Score of 100 episodes"
   ]
  },
  {
   "cell_type": "raw",
   "metadata": {},
   "source": [
    "Using PER, DUELING DQN, DOUBLE DQN the agnet solved the problem in 1400 episodes\n",
    "The agent achives a score of 13+ on average in 100 consecutives episodes"
   ]
  },
  {
   "cell_type": "code",
   "execution_count": 7,
   "metadata": {},
   "outputs": [],
   "source": [
    "import matplotlib\n",
    "import numpy as np\n",
    "import matplotlib.pyplot as plt\n",
    "import pickle\n",
    "%matplotlib inline  "
   ]
  },
  {
   "cell_type": "code",
   "execution_count": 8,
   "metadata": {},
   "outputs": [],
   "source": [
    "file_in = open('all_scores3.pickle', 'rb')\n",
    "a = pickle.load(file_in)"
   ]
  },
  {
   "cell_type": "code",
   "execution_count": 10,
   "metadata": {},
   "outputs": [
    {
     "data": {
      "image/png": "[encoded data removed]",
      "text/plain": [
       "<matplotlib.figure.Figure at 0x7f19eb3893c8>"
      ]
     },
     "metadata": {
      "needs_background": "light"
     },
     "output_type": "display_data"
    }
   ],
   "source": [
    "plt.plot(a)\n",
    "plt.title('Average Score 100 Episodes')\n",
    "plt.show()"
   ]
  },
  {
   "cell_type": "code",
   "execution_count": null,
   "metadata": {},
   "outputs": [],
   "source": []
  }
 ],
 "metadata": {
  "kernelspec": {
   "display_name": "Python 3",
   "language": "python",
   "name": "python3"
  },
  "language_info": {
   "codemirror_mode": {
    "name": "ipython",
    "version": 3
   },
   "file_extension": ".py",
   "mimetype": "text/x-python",
   "name": "python",
   "nbconvert_exporter": "python",
   "pygments_lexer": "ipython3",
   "version": "3.6.3"
  }
 },
 "nbformat": 4,
 "nbformat_minor": 2
}
